{
 "cells": [
  {
   "cell_type": "code",
   "execution_count": 60,
   "metadata": {},
   "outputs": [],
   "source": [
    "import pandas as pd\n",
    "import numpy as np\n",
    "from matplotlib import pyplot as plt\n",
    "from collections import Counter\n",
    "from tqdm import tqdm\n",
    "import seaborn as sns\n",
    "from scipy.sparse import dok_matrix\n",
    "import itertools\n",
    "from matplotlib.colors import LogNorm\n"
   ]
  },
  {
   "cell_type": "code",
   "execution_count": 61,
   "metadata": {},
   "outputs": [],
   "source": [
    "import os.path as osp\n"
   ]
  },
  {
   "cell_type": "markdown",
   "metadata": {},
   "source": [
    "# Function definitions"
   ]
  },
  {
   "cell_type": "code",
   "execution_count": null,
   "metadata": {},
   "outputs": [],
   "source": [
    "def define_day(t):\n",
    "    for k,v in day.items():\n",
    "        if (t>=v[0]) and (t<=v[1]):\n",
    "            return k"
   ]
  },
  {
   "cell_type": "markdown",
   "metadata": {},
   "source": [
    "# Data import"
   ]
  },
  {
   "cell_type": "markdown",
   "metadata": {},
   "source": [
    "* **High school** (Marseilles, Dec 2013) - 5 days + weighted directed network from _contact diares_ (w = 1 if t in [0 min,5 min], w = 2 if t in [5, 15], w  = 3 if t in [15 min, 1 h], w = 4 if t > 1h) + directed network of _reported friendships_ + _Facebook friendship network_ -----> named 'high_2013'\n",
    "* **High school** (Marseilles, Dec 2011) - 4 days, 3 classes -----> named 'high_2011'\n",
    "* **High school** (Marseilles, Nov 2012) - 7 days, 5 classes -----> named 'high_2012'\n",
    "* **Primary school** (Lyon, Oct 2009) - 2 days 10 classes -----> named 'primary_school'"
   ]
  },
  {
   "cell_type": "code",
   "execution_count": 120,
   "metadata": {},
   "outputs": [],
   "source": [
    "dataset_name = 'high_2012' # choose between 'primary_school', 'high_2011', 'high_2012', 'high_2013'"
   ]
  },
  {
   "cell_type": "code",
   "execution_count": 121,
   "metadata": {},
   "outputs": [],
   "source": [
    "sep_data = '\\t'\n",
    "sep_metadata = '\\t'\n",
    "if dataset_name == 'primary_school':\n",
    "    data_path, metadata_path = 'tij_pres_primaryschool.csv', 'metadata_primaryschool.txt'\n",
    "\n",
    "elif dataset_name == 'high_2011':\n",
    "    data_path, metadata_path = 'highschool_2011.csv', 'metadata_2011.txt'\n",
    "\n",
    "elif dataset_name == 'high_2012':\n",
    "    data_path, metadata_path = 'highschool_2012.csv', 'metadata_2012.txt'\n",
    "\n",
    "elif dataset_name == 'high_2013':\n",
    "    data_path, metadata_path = 'High-School_data_2013.csv', 'metadata_2013.txt'\n",
    "    sep_data = ' '\n"
   ]
  },
  {
   "cell_type": "code",
   "execution_count": 122,
   "metadata": {},
   "outputs": [],
   "source": [
    "path = osp.join('school_data','data', data_path)\n",
    "data = pd.read_csv(path, sep=sep_data, header=None, names=['t','i','j','c_i','c_j'])\n",
    "data.t = data.t - data.t.min()\n",
    "\n",
    "path = osp.join('school_data','metadata', metadata_path)\n",
    "metadata = pd.read_csv(path, sep=sep_metadata, header=None, names=['id','class','gender'])"
   ]
  },
  {
   "cell_type": "code",
   "execution_count": 123,
   "metadata": {},
   "outputs": [
    {
     "data": {
      "text/plain": [
       "<Axes: >"
      ]
     },
     "execution_count": 123,
     "metadata": {},
     "output_type": "execute_result"
    },
    {
     "data": {
      "image/png": "[encoded data removed]",
      "text/plain": [
       "<Figure size 640x480 with 1 Axes>"
      ]
     },
     "metadata": {},
     "output_type": "display_data"
    }
   ],
   "source": [
    "data.t.hist(bins=200)"
   ]
  },
  {
   "cell_type": "code",
   "execution_count": 124,
   "metadata": {},
   "outputs": [
    {
     "data": {
      "text/plain": [
       "<BarContainer object of 5 artists>"
      ]
     },
     "execution_count": 124,
     "metadata": {},
     "output_type": "execute_result"
    },
    {
     "data": {
      "image/png": "[encoded data removed]",
      "text/plain": [
       "<Figure size 640x480 with 1 Axes>"
      ]
     },
     "metadata": {},
     "output_type": "display_data"
    }
   ],
   "source": [
    "plt.bar(Counter(metadata['class']).keys(), Counter(metadata['class']).values())"
   ]
  },
  {
   "cell_type": "code",
   "execution_count": 125,
   "metadata": {},
   "outputs": [
    {
     "name": "stderr",
     "output_type": "stream",
     "text": [
      "45047it [00:00, 70672.40it/s]\n"
     ]
    }
   ],
   "source": [
    "day ={}\n",
    "d = 1\n",
    "prev_t = data.t.min()\n",
    "day[d] = [prev_t]\n",
    "\n",
    "for i,row in tqdm(data.iterrows()):\n",
    "    if row.t - prev_t > 10000:\n",
    "        day[d].append(prev_t) \n",
    "        d+=1\n",
    "        day[d] = [row.t]\n",
    "        \n",
    "    prev_t= row.t\n",
    "day[d].append(row.t)\n",
    "    "
   ]
  },
  {
   "cell_type": "code",
   "execution_count": 126,
   "metadata": {},
   "outputs": [],
   "source": [
    "data['day'] = data.t.apply(lambda x: define_day(x))"
   ]
  },
  {
   "cell_type": "code",
   "execution_count": 128,
   "metadata": {},
   "outputs": [],
   "source": [
    "combs = itertools.combinations_with_replacement(metadata['class'].unique(), 2)\n",
    "n_xy = {}\n",
    "for comb in combs:\n",
    "    n_xy[comb] = 0\n"
   ]
  },
  {
   "cell_type": "code",
   "execution_count": 129,
   "metadata": {},
   "outputs": [],
   "source": [
    "for c_i, c_j in data[['c_i', 'c_j']].values:\n",
    "    if (c_i,c_j) in n_xy.keys():\n",
    "            n_xy[(c_i, c_j)] += 20\n",
    "            continue\n",
    "    n_xy[(c_j, c_i)] += 20"
   ]
  },
  {
   "cell_type": "code",
   "execution_count": 130,
   "metadata": {},
   "outputs": [],
   "source": [
    "n_xy = {k:v/120 for k,v in n_xy.items()} #v / 60 / 2 (because it happens between two people) in order to have a contact matrix in minutes"
   ]
  },
  {
   "cell_type": "code",
   "execution_count": null,
   "metadata": {},
   "outputs": [
    {
     "data": {
      "image/png": "[encoded data removed]",
      "text/plain": [
       "<Figure size 600x500 with 2 Axes>"
      ]
     },
     "metadata": {},
     "output_type": "display_data"
    }
   ],
   "source": [
    "classes = metadata['class'].unique()\n",
    "times = pd.DataFrame(np.zeros((len(classes), len(classes))), index=classes, columns=classes)\n",
    "\n",
    "for (i, j), value in n_xy.items():\n",
    "    times.loc[i, j] = value  \n",
    "    times.loc[j, i] = value  \n",
    "\n",
    "plt.figure(figsize=(6, 5))\n",
    "sns.heatmap(times, annot=False, cmap=\"bone\", norm=LogNorm())\n",
    "\n",
    "plt.title('Contact matrix between classes (cumulated duration (in minutes) of contacts)')\n",
    "plt.show()"
   ]
  },
  {
   "cell_type": "code",
   "execution_count": 133,
   "metadata": {},
   "outputs": [
    {
     "data": {
      "text/html": [
       "<div>\n",
       "<style scoped>\n",
       "    .dataframe tbody tr th:only-of-type {\n",
       "        vertical-align: middle;\n",
       "    }\n",
       "\n",
       "    .dataframe tbody tr th {\n",
       "        vertical-align: top;\n",
       "    }\n",
       "\n",
       "    .dataframe thead th {\n",
       "        text-align: right;\n",
       "    }\n",
       "</style>\n",
       "<table border=\"1\" class=\"dataframe\">\n",
       "  <thead>\n",
       "    <tr style=\"text-align: right;\">\n",
       "      <th></th>\n",
       "      <th>PC</th>\n",
       "      <th>MP*2</th>\n",
       "      <th>PSI*</th>\n",
       "      <th>PC*</th>\n",
       "      <th>MP*1</th>\n",
       "    </tr>\n",
       "  </thead>\n",
       "  <tbody>\n",
       "    <tr>\n",
       "      <th>PC</th>\n",
       "      <td>2103.166667</td>\n",
       "      <td>36.833333</td>\n",
       "      <td>81.333333</td>\n",
       "      <td>101.166667</td>\n",
       "      <td>9.500000</td>\n",
       "    </tr>\n",
       "    <tr>\n",
       "      <th>MP*2</th>\n",
       "      <td>36.833333</td>\n",
       "      <td>645.500000</td>\n",
       "      <td>43.833333</td>\n",
       "      <td>2.833333</td>\n",
       "      <td>274.833333</td>\n",
       "    </tr>\n",
       "    <tr>\n",
       "      <th>PSI*</th>\n",
       "      <td>81.333333</td>\n",
       "      <td>43.833333</td>\n",
       "      <td>1485.000000</td>\n",
       "      <td>43.666667</td>\n",
       "      <td>33.166667</td>\n",
       "    </tr>\n",
       "    <tr>\n",
       "      <th>PC*</th>\n",
       "      <td>101.166667</td>\n",
       "      <td>2.833333</td>\n",
       "      <td>43.666667</td>\n",
       "      <td>481.500000</td>\n",
       "      <td>3.000000</td>\n",
       "    </tr>\n",
       "    <tr>\n",
       "      <th>MP*1</th>\n",
       "      <td>9.500000</td>\n",
       "      <td>274.833333</td>\n",
       "      <td>33.166667</td>\n",
       "      <td>3.000000</td>\n",
       "      <td>2162.500000</td>\n",
       "    </tr>\n",
       "  </tbody>\n",
       "</table>\n",
       "</div>"
      ],
      "text/plain": [
       "               PC        MP*2         PSI*         PC*         MP*1\n",
       "PC    2103.166667   36.833333    81.333333  101.166667     9.500000\n",
       "MP*2    36.833333  645.500000    43.833333    2.833333   274.833333\n",
       "PSI*    81.333333   43.833333  1485.000000   43.666667    33.166667\n",
       "PC*    101.166667    2.833333    43.666667  481.500000     3.000000\n",
       "MP*1     9.500000  274.833333    33.166667    3.000000  2162.500000"
      ]
     },
     "execution_count": 133,
     "metadata": {},
     "output_type": "execute_result"
    }
   ],
   "source": [
    "times"
   ]
  },
  {
   "cell_type": "code",
   "execution_count": null,
   "metadata": {},
   "outputs": [],
   "source": []
  }
 ],
 "metadata": {
  "kernelspec": {
   "display_name": "base",
   "language": "python",
   "name": "python3"
  },
  "language_info": {
   "codemirror_mode": {
    "name": "ipython",
    "version": 3
   },
   "file_extension": ".py",
   "mimetype": "text/x-python",
   "name": "python",
   "nbconvert_exporter": "python",
   "pygments_lexer": "ipython3",
   "version": "3.11.7"
  }
 },
 "nbformat": 4,
 "nbformat_minor": 2
}
