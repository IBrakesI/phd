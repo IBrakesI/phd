{
 "cells": [
  {
   "cell_type": "code",
   "execution_count": null,
   "metadata": {},
   "outputs": [],
   "source": [
    "import numpy as np\n",
    "import pandas as pd\n",
    "from matplotlib import pyplot as plt\n",
    "\n",
    "from copy import copy\n",
    "from scipy.sparse import csr_matrix"
   ]
  },
  {
   "cell_type": "code",
   "execution_count": 3,
   "metadata": {},
   "outputs": [],
   "source": [
    "class SIR_model():\n",
    "    '''\n",
    "    This class simulates a epidemics on temporal graph using a SIR model\n",
    "    \n",
    "    Use: SIR_model(df).simulate(beta, mu, f)\n",
    "    \n",
    "    Inputs:\n",
    "        * df (DataFrame): columns ('i','j','t')\n",
    "        * beta (float): infection rate\n",
    "        * mu (float): recovery rate\n",
    "        * f (float): fraction of initial infected nodes  \n",
    "        \n",
    "    '''\n",
    "    \n",
    "    def __init__(self, df):\n",
    "        \n",
    "        self.df = df\n",
    "        self.nodes = np.unique(df[['i','j']].values)\n",
    "\n",
    "    def init_epi(self, f):\n",
    "        '''\n",
    "        Initialize the epidemics with a fraction f of nodes infected\n",
    "        '''\n",
    "\n",
    "        # initial f*len(nodes) infected nodes are sampled uniformely from node list, without replacement\n",
    "        self.i0 = np.random.choice(len(self.nodes), int(f*len(self.nodes)), replace=False) \n",
    "        self.I = np.full(len(self.nodes),0)\n",
    "        self.R = np.full(len(self.nodes),0)\n",
    "        self.I[self.i0] = 1\n",
    "        # i0 provides the indeces of nodes infected\n",
    "        # I, R are vectors of length len(nodes) of 0 and 1 \n",
    "\n",
    "    def simulate(self, beta, mu, f):\n",
    "        '''\n",
    "        SIR simulation with infection rate beta, recovery rate mu and initial fraction f of infected nodes\n",
    "        '''\n",
    "\n",
    "\n",
    "        self.init_epi(f)\n",
    "       \n",
    "        S_list = [len(self.nodes)-self.I.sum()]\n",
    "        I_list = [self.I.sum()]\n",
    "        R_list = [0]\n",
    "\n",
    "        t_list = np.sort(self.df.t.unique())\n",
    "        \n",
    "        for t in np.sort(t_list):\n",
    "            S = 1 - self.I - self.R\n",
    "            if any(c == -1 for c in S):\n",
    "                print('error')\n",
    "                break\n",
    "\n",
    "            old_susc_indeces = list(np.where(S==1)[0])\n",
    "            old_inf_indeces = list(np.where(self.I==1)[0])\n",
    "\n",
    "            old_susc = self.nodes[old_susc_indeces]\n",
    "            old_inf = self.nodes[old_inf_indeces]\n",
    "\n",
    "            for s_ind,susc in zip(old_susc_indeces, old_susc):\n",
    "                neighbours = self.df[((self.df.i == susc) | (self.df.j == susc)) & (self.df.t == t)][['i','j']].values \n",
    "                neighbours = np.unique(neighbours[neighbours != susc]) # set of neighbours at t\n",
    "                neighbours = neighbours[np.isin(neighbours, old_inf)] # neighbours that are infected\n",
    "                p = 1 - (1-beta)**len(neighbours)\n",
    "                \n",
    "                if p >= np.random.uniform(0,1):\n",
    "                    self.I[s_ind] = 1 # it becomes infected\n",
    "\n",
    "            for inf_ind in old_inf_indeces:\n",
    "                if mu >= np.random.uniform(0,1):\n",
    "                    self.I[inf_ind]= 0\n",
    "                    self.R[inf_ind]= 1\n",
    "\n",
    "            S_list.append(len(self.nodes) - self.I.sum() - self.R.sum())\n",
    "            I_list.append(self.I.sum())\n",
    "            R_list.append(self.R.sum())\n",
    "\n",
    "            if self.I.sum() == 0: # all infected have recovered\n",
    "                break\n",
    "\n",
    "            S = 1 - self.I - self.R\n",
    "            if S.sum() == 0: # no more susceptibles\n",
    "                print(f'all infected at t={t}')\n",
    "                break\n",
    "            \n",
    "            l = min(len(t_list), len(S_list))\n",
    "        return S_list[:l], I_list[:l], R_list[:l]\n",
    "\n",
    "\n",
    "\n",
    "\n",
    "\n",
    "\n"
   ]
  },
  {
   "cell_type": "code",
   "execution_count": 4,
   "metadata": {},
   "outputs": [],
   "source": [
    "df = pd.read_csv('school_data/data/High-School_data_2013.csv', header = None, sep = ' ', names = ['t', 'i', 'j','c_i','c_j'])\n",
    "df.t =df.t - df.t.min()"
   ]
  },
  {
   "cell_type": "code",
   "execution_count": null,
   "metadata": {},
   "outputs": [],
   "source": [
    "m = SIR_model(df)"
   ]
  },
  {
   "cell_type": "code",
   "execution_count": null,
   "metadata": {},
   "outputs": [],
   "source": [
    "s,i,r = m.simulate(0.01, 0.001, 0.08)"
   ]
  },
  {
   "cell_type": "code",
   "execution_count": null,
   "metadata": {},
   "outputs": [],
   "source": [
    "plt.plot(np.sort(df.t.unique())[:len(s)], s, label='s')\n",
    "plt.plot(np.sort(df.t.unique())[:len(i)], i, label='i')\n",
    "plt.plot(np.sort(df.t.unique())[:len(r)], r, label='r')\n",
    "plt.legend()\n",
    "plt.show()"
   ]
  },
  {
   "cell_type": "code",
   "execution_count": null,
   "metadata": {},
   "outputs": [],
   "source": [
    "df.t.hist(bins=200, grid=False)"
   ]
  },
  {
   "cell_type": "code",
   "execution_count": null,
   "metadata": {},
   "outputs": [],
   "source": [
    "\n"
   ]
  },
  {
   "cell_type": "code",
   "execution_count": null,
   "metadata": {},
   "outputs": [],
   "source": [
    "class SIR_model_V2():\n",
    "    def __init__(self, df):\n",
    "        \n",
    "        self.df = df\n",
    "        self.nodes = np.unique(df[['i','j']].values)\n",
    "        node_to_index = {node: idx for idx, node in enumerate(self.nodes)}\n",
    "        self.df['i_index'] = self.df['i'].map(node_to_index)\n",
    "        self.df['j_index'] = self.df['j'].map(node_to_index)\n",
    "\n",
    "    \n",
    "    def initialize_state(self, f):\n",
    "        '''This function initilizes the states of an SIR model setting all nodes to the susceptible state and the seeds to the infected one\n",
    "        \n",
    "        Use: state = initialize_state(seeds, nodes)\n",
    "        \n",
    "        Inputs:\n",
    "            - f (float): fraction of infected nodes\n",
    "\n",
    "        '''\n",
    "        \n",
    "        state = dict()\n",
    "        state['S'] = set(self.nodes)\n",
    "        state['I'] = set(np.random.choice(self.nodes, int(f*len(self.nodes)), replace=False))\n",
    "        \n",
    "        for seed in state['I']:\n",
    "            state['S'].remove(seed)\n",
    "        state['R'] = set()\n",
    "\n",
    "        return state\n",
    "    \n",
    "\n",
    "    def simulate(self, beta, mu,f):\n",
    "        '''This function runs a SIR model on a temporal graph\n",
    "                \n",
    "        Inputs: \n",
    "            - beta (float): infection rate\n",
    "            - mu (float): recovery rate\n",
    "            - f (float): fraction of infected nodes\n",
    "            \n",
    "        Output:\n",
    "            - state_ev (list of dictionaries): each element corresponds to the state at a given time step\n",
    "        '''\n",
    "        state = self.initialize_state(f)\n",
    "        \n",
    "        state_ev = [state]\n",
    "        t_list = np.sort(self.df.t.unique())\n",
    "        \n",
    "        for t in np.sort(t_list):\n",
    "            sub_graph = self.df[self.df.t == t]\n",
    "            \n",
    "            A = csr_matrix((np.ones(len(sub_graph)), (sub_graph['i_index'], sub_graph['j_index'])), shape=(len(self.nodes), len(self.nodes)))\n",
    "\n",
    "            state = self._update_step(state, A, beta, mu)\n",
    "            state_ev.append(state)\n",
    "            \n",
    "            if (len(state['I'])==0) or (len(state['S'])==0): # all infected have recovered or no more susceptibles\n",
    "                break\n",
    "\n",
    "        \n",
    "            \n",
    "\n",
    "        return state_ev\n",
    "    \n",
    "    \n",
    "    def _update_step(self, state, A, beta, mu):\n",
    "        '''Perform a single step in the SEIR simulation'''\n",
    "\n",
    "        state_ = copy(state)\n",
    "\n",
    "        state_ = self._update_state(state_, A, mu, 'I', 'R')\n",
    "        state_ = self._update_state(state_, A, beta, 'S', 'I')\n",
    "\n",
    "        return state_\n",
    "\n",
    "\n",
    "    def _update_state(self, state, A, prob, value_old, value_new):\n",
    "        '''Generate the transition between two states'''\n",
    "\n",
    "        state_ = copy(state)\n",
    "\n",
    "        if value_old == 'S':\n",
    "            idxS = np.array([i in state_['S'] for i in self.nodes])\n",
    "            I = np.array([1 if i in state_['I'] else 0 for i in self.nodes])\n",
    "            pinf = 1-(1-prob)**(A[idxS]@I)\n",
    "            idx = np.random.binomial(1, pinf) == 1\n",
    "\n",
    "        else:\n",
    "            idx = np.random.binomial(1, prob, len(state[value_old])) == 1\n",
    "        \n",
    "        # nodes that will change their state from value_old to value_new\n",
    "        selected_nodes = [v for i, v in enumerate(state[value_old]) if idx[i]]\n",
    "\n",
    "        # update\n",
    "        state_[value_new] = state_[value_new].union(selected_nodes)\n",
    "        state_[value_old] = state_[value_old].difference(selected_nodes)\n",
    "\n",
    "        return state_\n",
    "\n",
    "\n",
    "\n",
    "        "
   ]
  },
  {
   "cell_type": "code",
   "execution_count": 59,
   "metadata": {},
   "outputs": [],
   "source": [
    "m = SIR_model_V2(df)"
   ]
  },
  {
   "cell_type": "code",
   "execution_count": 70,
   "metadata": {},
   "outputs": [],
   "source": [
    "d = m.simulate(0.1, 0.01, 0.5)"
   ]
  },
  {
   "cell_type": "code",
   "execution_count": 71,
   "metadata": {},
   "outputs": [
    {
     "data": {
      "image/png": "[encoded data removed]",
      "text/plain": [
       "<Figure size 640x480 with 1 Axes>"
      ]
     },
     "metadata": {},
     "output_type": "display_data"
    }
   ],
   "source": [
    "plt.plot(np.sort(df.t.unique())[:min(len(df.t.unique()),len(d))], [len(x['S']) for x in d][:min(len(df.t.unique()),len(d))], label='s')\n",
    "plt.plot(np.sort(df.t.unique())[:min(len(df.t.unique()),len(d))], [len(x['I']) for x in d][:min(len(df.t.unique()),len(d))], label='i')\n",
    "plt.plot(np.sort(df.t.unique())[:min(len(df.t.unique()),len(d))], [len(x['R']) for x in d][:min(len(df.t.unique()),len(d))], label='r')\n",
    "plt.legend()\n",
    "plt.show()"
   ]
  },
  {
   "cell_type": "code",
   "execution_count": 54,
   "metadata": {},
   "outputs": [],
   "source": [
    "m = SIR_model(df)\n",
    "s,i,r = m.simulate(0.1, 0.01, 0.5)"
   ]
  },
  {
   "cell_type": "code",
   "execution_count": 55,
   "metadata": {},
   "outputs": [
    {
     "data": {
      "image/png": "[encoded data removed]",
      "text/plain": [
       "<Figure size 640x480 with 1 Axes>"
      ]
     },
     "metadata": {},
     "output_type": "display_data"
    }
   ],
   "source": [
    "plt.plot(np.sort(df.t.unique())[:len(s)], s, label='s')\n",
    "plt.plot(np.sort(df.t.unique())[:len(i)], i, label='i')\n",
    "plt.plot(np.sort(df.t.unique())[:len(r)], r, label='r')\n",
    "plt.legend()\n",
    "plt.show()"
   ]
  },
  {
   "cell_type": "code",
   "execution_count": null,
   "metadata": {},
   "outputs": [],
   "source": []
  },
  {
   "cell_type": "code",
   "execution_count": null,
   "metadata": {},
   "outputs": [],
   "source": []
  }
 ],
 "metadata": {
  "kernelspec": {
   "display_name": "base",
   "language": "python",
   "name": "python3"
  },
  "language_info": {
   "codemirror_mode": {
    "name": "ipython",
    "version": 3
   },
   "file_extension": ".py",
   "mimetype": "text/x-python",
   "name": "python",
   "nbconvert_exporter": "python",
   "pygments_lexer": "ipython3",
   "version": "3.11.7"
  }
 },
 "nbformat": 4,
 "nbformat_minor": 2
}
